{
  "nbformat": 4,
  "nbformat_minor": 0,
  "metadata": {
    "colab": {
      "provenance": [],
      "authorship_tag": "ABX9TyMwrT086B3HgfX4Lnc+XfaA",
      "include_colab_link": true
    },
    "kernelspec": {
      "name": "python3",
      "display_name": "Python 3"
    },
    "language_info": {
      "name": "python"
    }
  },
  "cells": [
    {
      "cell_type": "markdown",
      "metadata": {
        "id": "view-in-github",
        "colab_type": "text"
      },
      "source": [
        "<a href=\"https://colab.research.google.com/github/JuanDaza12/ProgramacionAplicada/blob/main/Perceptron2.ipynb\" target=\"_parent\"><img src=\"https://colab.research.google.com/assets/colab-badge.svg\" alt=\"Open In Colab\"/></a>"
      ]
    },
    {
      "cell_type": "code",
      "execution_count": 4,
      "metadata": {
        "colab": {
          "base_uri": "https://localhost:8080/"
        },
        "id": "iD-q4_av6N-r",
        "outputId": "ddaa9c38-eab0-4fb4-a0bc-b40ee92e7760"
      },
      "outputs": [
        {
          "output_type": "stream",
          "name": "stdout",
          "text": [
            "Weight (w = 2.95), Cost: 27.08\n",
            "Weight (w = 1.52), Cost: 6.77\n",
            "Weight (w = 2.24), Cost: 1.69\n",
            "Weight (w = 1.88), Cost: 0.42\n",
            "Weight (w = 2.06), Cost: 0.11\n",
            "Weight (w = 1.97), Cost: 0.03\n",
            "Weight (w = 2.01), Cost: 0.01\n",
            "Weight (w = 1.99), Cost: 0.00\n",
            "Weight (w = 2.00), Cost: 0.00\n",
            "Weight (w = 2.00), Cost: 0.00\n",
            "Weight (w = 2.00), Cost: 0.00\n",
            "Weight (w = 2.00), Cost: 0.00\n",
            "Weight (w = 2.00), Cost: 0.00\n",
            "Weight (w = 2.00), Cost: 0.00\n",
            "Weight (w = 2.00), Cost: 0.00\n",
            "Weight (w = 2.00), Cost: 0.00\n",
            "Weight (w = 2.00), Cost: 0.00\n",
            "Weight (w = 2.00), Cost: 0.00\n",
            "Weight (w = 2.00), Cost: 0.00\n",
            "Weight (w = 2.00), Cost: 0.00\n",
            "Weight (w = 2.00), Cost: 0.00\n",
            "Weight (w = 2.00), Cost: 0.00\n",
            "Weight (w = 2.00), Cost: 0.00\n",
            "Weight (w = 2.00), Cost: 0.00\n",
            "Weight (w = 2.00), Cost: 0.00\n",
            "Weight (w = 2.00), Cost: 0.00\n",
            "Weight (w = 2.00), Cost: 0.00\n",
            "Weight (w = 2.00), Cost: 0.00\n",
            "Weight (w = 2.00), Cost: 0.00\n",
            "Weight (w = 2.00), Cost: 0.00\n"
          ]
        }
      ],
      "source": [
        "inputs = [1, 2, 3, 4]\n",
        "targets = [2, 4, 6, 8]\n",
        "\n",
        "w = 0.1\n",
        "epochs = 30\n",
        "learning_rate = 0.1\n",
        "\n",
        "def predict(x):\n",
        "    return w * x\n",
        "\n",
        "# Train the network\n",
        "for _ in range(epochs):\n",
        "    pred = [predict(i) for i in inputs]\n",
        "    errors = [(p - t)**2 for p, t in zip(pred, targets)]  # Cost will generate overflow\n",
        "    cost = sum(errors) / len(targets)\n",
        "\n",
        "    # ===================== Derivative ========================\n",
        "    # Cost using the error derivative\n",
        "    errors_d = [2 * (p - t) for p, t in zip(pred, targets)]\n",
        "    weight_d = [e * i for e, i in zip(errors_d, inputs)]\n",
        "    w -= learning_rate * sum(weight_d) / len(weight_d)\n",
        "\n",
        "    #print(f\"Targets:     {targets}\")\n",
        "    #print(f\"Predictions: {pred}\")\n",
        "    #print(f\"Errors:      {errors}\")\n",
        "    print(f\"Weight (w = {w:.2f}), Cost: {cost:.2f}\")"
      ]
    },
    {
      "cell_type": "code",
      "source": [
        "test_inputs = [5, 6]\n",
        "test_targets = [10, 12]\n",
        "pred = [predict(i) for i in test_inputs]\n",
        "\n",
        "for i, t, p in zip(test_inputs, test_targets, pred):\n",
        "    print(f\"input:{i}, target:{t}, pred:{p:.4f}\")"
      ],
      "metadata": {
        "colab": {
          "base_uri": "https://localhost:8080/"
        },
        "id": "87T09mOJ6vlo",
        "outputId": "a0188614-70b6-4bfa-c005-52ba532b5750"
      },
      "execution_count": 5,
      "outputs": [
        {
          "output_type": "stream",
          "name": "stdout",
          "text": [
            "input:5, target:10, pred:10.0000\n",
            "input:6, target:12, pred:12.0000\n"
          ]
        }
      ]
    }
  ]
}